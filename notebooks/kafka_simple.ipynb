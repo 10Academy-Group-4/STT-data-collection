{
 "cells": [
  {
   "cell_type": "code",
   "execution_count": 3,
   "source": [
    "import sys\r\n",
    "import os\r\n",
    "from json import dumps, loads\r\n",
    "sys.path.append(os.path.abspath(os.path.join('..')))\r\n",
    "from scripts.KafkaClient import KafkaClient\r\n"
   ],
   "outputs": [],
   "metadata": {}
  },
  {
   "cell_type": "code",
   "execution_count": null,
   "source": [
    "\r\n",
    "kf_client = KafkaClient(\r\n",
    "    'milkyb',\r\n",
    "    [\r\n",
    "        'b-1.demo-cluster-1.9q7lp7.c1.kafka.eu-west-1.amazonaws.com:9092',\r\n",
    "        'b-2.demo-cluster-1.9q7lp7.c1.kafka.eu-west-1.amazonaws.com:9092'\r\n",
    "    ]\r\n",
    ")"
   ],
   "outputs": [],
   "metadata": {}
  },
  {
   "cell_type": "code",
   "execution_count": null,
   "source": [
    "print(kf_client.get_topics())"
   ],
   "outputs": [],
   "metadata": {}
  },
  {
   "cell_type": "code",
   "execution_count": null,
   "source": [
    "kf_client.create_producer(\r\n",
    "    value_serializer=lambda x: dumps(x).encode('utf-8'))\r\n"
   ],
   "outputs": [],
   "metadata": {}
  },
  {
   "cell_type": "code",
   "execution_count": null,
   "source": [
    "kf_client.send_data(topic_name='Reiten-Text-Corpus',\r\n",
    "                    data_list=[1, 2, 3, 4, 5, 6, 7, 8, 9, 10, 11, 12, 13, 14, 15])"
   ],
   "outputs": [],
   "metadata": {}
  },
  {
   "cell_type": "code",
   "execution_count": null,
   "source": [
    "kf_client.create_consumer(\r\n",
    "    topics='Reiten-Text-Corpus',\r\n",
    "    offset='earliest',\r\n",
    "    auto_commit=True,\r\n",
    "    group_id='text-corpus-reader',\r\n",
    "    value_deserializer=lambda x: loads(x.decode('utf-8')))\r\n"
   ],
   "outputs": [],
   "metadata": {}
  },
  {
   "cell_type": "code",
   "execution_count": null,
   "source": [
    "print(kf_client.get_data(10))\r\n"
   ],
   "outputs": [],
   "metadata": {}
  }
 ],
 "metadata": {
  "orig_nbformat": 4,
  "language_info": {
   "name": "python",
   "version": "3.8.4",
   "mimetype": "text/x-python",
   "codemirror_mode": {
    "name": "ipython",
    "version": 3
   },
   "pygments_lexer": "ipython3",
   "nbconvert_exporter": "python",
   "file_extension": ".py"
  },
  "kernelspec": {
   "name": "python3",
   "display_name": "Python 3.8.4 64-bit"
  },
  "interpreter": {
   "hash": "2db524e06e9f5f4ffedc911c917cb75e12dbc923643829bf417064a77eb14d37"
  }
 },
 "nbformat": 4,
 "nbformat_minor": 2
}